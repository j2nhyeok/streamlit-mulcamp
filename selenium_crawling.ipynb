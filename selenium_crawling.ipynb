{
 "cells": [
  {
   "cell_type": "code",
   "execution_count": 2,
   "id": "b529df81-168f-449c-82f3-b2ca8798ec39",
   "metadata": {},
   "outputs": [
    {
     "name": "stdout",
     "output_type": "stream",
     "text": [
      "4.17.2\n"
     ]
    }
   ],
   "source": [
    "import selenium\n",
    "\n",
    "print(selenium.__version__)"
   ]
  },
  {
   "cell_type": "code",
   "execution_count": 6,
   "id": "915ee505-95c3-4c5f-9ee3-8d3e30fad1a1",
   "metadata": {},
   "outputs": [],
   "source": [
    "# 크롬 드라이버 세팅\n",
    "from selenium import webdriver\n",
    "from selenium.webdriver.chrome.service import Service\n",
    "from selenium.webdriver.common.by import By\n",
    "\n",
    "CHROME_DRIVER_PATH = './drivers/chromedriver.exe'\n",
    "service = Service(executable_path=CHROME_DRIVER_PATH)\n",
    "options = webdriver.ChromeOptions()\n",
    "driver = webdriver.Chrome(service=service, options=options)\n",
    "\n",
    "URL='https://signal.bz/news'\n",
    "driver.get(url=URL)"
   ]
  },
  {
   "cell_type": "code",
   "execution_count": 7,
   "id": "79f85639-d11b-411f-aa37-17b13e5907d8",
   "metadata": {},
   "outputs": [
    {
     "name": "stdout",
     "output_type": "stream",
     "text": [
      "분당 흉기난동 무기징역\n",
      "주호민 특수교사 유죄\n",
      "바이든 트럼프\n",
      "김지니 이나무\n",
      "김성수 카카오엔터 대표\n",
      "성범죄 힘찬\n",
      "한강 리버버스\n",
      "해병대 수사단장 명예로운\n",
      "경북 문경시 공장 화재\n",
      "신유빈 김운용 여성체육\n",
      "\n",
      "['분당 흉기난동 무기징역', '주호민 특수교사 유죄', '바이든 트럼프', '김지니 이나무', '김성수 카카오엔터 대표', '성범죄 힘찬', '한강 리버버스', '해병대 수사단장 명예로운', '경북 문경시 공장 화재', '신유빈 김운용 여성체육']\n"
     ]
    }
   ],
   "source": [
    "CSS_PATH = '#app > div > main > div > section > div > section > section:nth-child(2) > div:nth-child(2) > div > div > div > a > span.rank-text'\n",
    "naver_results = driver.find_elements(By.CSS_SELECTOR, CSS_PATH)\n",
    "naver_list = []\n",
    "for naver_result in naver_results:\n",
    "    print(naver_result.text)\n",
    "    naver_list.append(naver_result.text)\n",
    "print(\"\")\n",
    "print(naver_list)"
   ]
  },
  {
   "cell_type": "code",
   "execution_count": 4,
   "id": "c8159be6-7df7-49e1-9528-49a1cb4870f5",
   "metadata": {},
   "outputs": [],
   "source": [
    "driver.quit()"
   ]
  },
  {
   "cell_type": "code",
   "execution_count": null,
   "id": "54b270c6-97f8-4ecb-9762-ad65be65cea7",
   "metadata": {},
   "outputs": [],
   "source": [
    "#CSS_PATH = '#app > div > main > div > section > div > section > section:nth-child(2) > div:nth-child(2) > div#app > div > main > div > section > div > section > section:nth-child(2) > div:nth-child(2) > div > div:nth-child(1) > div:nth-child(1) > a > span.rank-text'\n",
    "CSS_PATH = '#app > div > main > div > section > div > section > section:nth-child(2) > div:nth-child(2) > div > div:nth-child(1) > div:nth-child(1) > a > span.rank-text'"
   ]
  },
  {
   "cell_type": "code",
   "execution_count": null,
   "id": "504bb189-d52f-452e-8fb2-4602518846f4",
   "metadata": {},
   "outputs": [],
   "source": []
  },
  {
   "cell_type": "code",
   "execution_count": 57,
   "id": "e6ce479a-48a8-49e8-a26c-f02deb160d3e",
   "metadata": {},
   "outputs": [
    {
     "name": "stdout",
     "output_type": "stream",
     "text": [
      "['1_한동훈 위원장', '2_흉기난동 최원종 무기징역', '3_대한민국 피겨 금메달', '4_중대재해처벌법 유예 반대', '5_제22대 모의개표', '6_이태원참사 특별법 거부', '7_김성수 카카오엔터 대표', '8_2심서 파기 환송', '9_조현우 아시안컵 16강', '10_슈퍼에 흉기 담배']\n"
     ]
    }
   ],
   "source": [
    "import time\n",
    "from selenium import webdriver\n",
    "from selenium.webdriver.chrome.service import Service\n",
    "from selenium.webdriver.common.by import By\n",
    "\n",
    "CHROME_DRIVER_PATH = './drivers/chromedriver.exe'\n",
    "service = Service(executable_path=CHROME_DRIVER_PATH)\n",
    "options = webdriver.ChromeOptions()\n",
    "driver = webdriver.Chrome(service=service, options=options)\n",
    "\n",
    "nate_list_1st = []\n",
    "nate_list_2nd = []\n",
    "for i in range(2):\n",
    "    URL='https://www.nate.com'\n",
    "    driver.get(url=URL) \n",
    "    rank_results = driver.find_elements(By.CSS_SELECTOR,'#olLiveIssueKeyword > li > span.num_rank')\n",
    "                                                            #olLiveIssueKeyword > li:nth-child(1) > a > span.txt_rank\n",
    "    nate_results = driver.find_elements(By.CSS_SELECTOR,'#olLiveIssueKeyword > li > a > span.txt_rank')\n",
    "    for rank, keyword in zip(rank_results, nate_results):\n",
    "        if i == 0:\n",
    "            nate_list_1st.append(f'{rank.text}_{keyword.text}')\n",
    "        elif i == 1:\n",
    "            nate_list_2nd.append(f'{rank.text}_{keyword.text}')\n",
    "    time.sleep(8)\n",
    "    driver.refresh()\n",
    "result = nate_list_1st + nate_list_2nd\n",
    "\n",
    "print(result)\n"
   ]
  },
  {
   "cell_type": "code",
   "execution_count": 59,
   "id": "993d7a3c-da2f-4aa9-bb79-006b2fb1a6a2",
   "metadata": {},
   "outputs": [
    {
     "name": "stdout",
     "output_type": "stream",
     "text": [
      "https://www.ppomppu.co.kr/zboard/zboard.php?id=ppomppu&page=2&divpage=85\n",
      "https://www.ppomppu.co.kr/zboard/zboard.php?id=ppomppu&page=3&divpage=85\n",
      "https://www.ppomppu.co.kr/zboard/zboard.php?id=ppomppu&page=4&divpage=85\n",
      "https://www.ppomppu.co.kr/zboard/zboard.php?id=ppomppu&page=5&divpage=85\n",
      "https://www.ppomppu.co.kr/zboard/zboard.php?id=ppomppu&page=6&divpage=85\n",
      "https://www.ppomppu.co.kr/zboard/zboard.php?id=ppomppu&page=7&divpage=85\n",
      "https://www.ppomppu.co.kr/zboard/zboard.php?id=ppomppu&page=8&divpage=85\n",
      "https://www.ppomppu.co.kr/zboard/zboard.php?id=ppomppu&page=9&divpage=85\n"
     ]
    }
   ],
   "source": [
    "from selenium import webdriver\n",
    "from selenium.webdriver.chrome.service import Service\n",
    "from selenium.webdriver.common.by import By\n",
    "import pandas as pd\n",
    "import time\n",
    "import random\n",
    "\n",
    "def page1_crawling(driver):\n",
    "    titles = []\n",
    "    urls = []\n",
    "    start_num = 9\n",
    "    end_num = 47\n",
    "    for i in range(start_num, end_num + 1, 2):\n",
    "        title_css_path = '#revolution_main_table > tbody > tr:nth-child(' + str(i) + ') > td:nth-child(3) > table > tbody > tr > td:nth-child(2) > div > a > font'\n",
    "        titles.append(driver.find_element(By.CSS_SELECTOR, title_css_path).text)\n",
    "        \n",
    "        url_css_path = '#revolution_main_table > tbody > tr:nth-child(' + str(i) + ') > td:nth-child(3) > table > tbody > tr > td:nth-child(2) > div > a'\n",
    "        urls.append(driver.find_element(By.CSS_SELECTOR, url_css_path).get_attribute('href'))\n",
    "\n",
    "    return pd.DataFrame({\"title\": titles, \"urls\": urls})\n",
    "\n",
    "def other_crawling(driver):\n",
    "    titles = []\n",
    "    urls = []\n",
    "    start_num = 6\n",
    "    end_num = 44\n",
    "    #revolution_main_table > tbody > tr:nth-child(6) > td:nth-child(3) > table > tbody > tr > td:nth-child(2) > div > a > font\n",
    "    #revolution_main_table > tbody > tr:nth-child(8) > td:nth-child(3) > table > tbody > tr > td:nth-child(2) > div > a > font\n",
    "    #revolution_main_table > tbody > tr:nth-child(44) > td:nth-child(3) > table > tbody > tr > td:nth-child(2) > div > a > font\n",
    "    for i in range(start_num, end_num + 1, 2):\n",
    "        title_css_path = '#revolution_main_table > tbody > tr:nth-child(' + str(i) + ') > td:nth-child(3) > table > tbody > tr > td:nth-child(2) > div > a > font'\n",
    "        titles.append(driver.find_element(By.CSS_SELECTOR, title_css_path).text)\n",
    "        \n",
    "        url_css_path = '#revolution_main_table > tbody > tr:nth-child(' + str(i) + ') > td:nth-child(3) > table > tbody > tr > td:nth-child(2) > div > a'\n",
    "        urls.append(driver.find_element(By.CSS_SELECTOR, url_css_path).get_attribute('href'))\n",
    "\n",
    "    return pd.DataFrame({\"title\": titles, \"urls\": urls})\n",
    "\n",
    "def main():\n",
    "    CHROME_DRIVER_PATH = './drivers/chromedriver.exe'\n",
    "    service = Service(executable_path=CHROME_DRIVER_PATH)\n",
    "    options = webdriver.ChromeOptions()\n",
    "    driver = webdriver.Chrome(service=service, options=options)\n",
    "\n",
    "    URL = 'https://www.ppomppu.co.kr/zboard/zboard.php?id=ppomppu&page=1&divpage=85'\n",
    "    driver.get(url=URL)\n",
    "    df = page1_crawling(driver)\n",
    "    for i in range(2, 10):\n",
    "        URL = 'https://www.ppomppu.co.kr/zboard/zboard.php?id=ppomppu&page='+ str(i) + '&divpage=85'\n",
    "        print(URL)\n",
    "        driver.get(url=URL)\n",
    "        df = pd.concat([df, other_crawling(driver)], ignore_index=True)\n",
    "        time.sleep(random.uniform(2, 5))   # 2 ~ 5초 무작위로 설정\n",
    "        \n",
    "    df.to_csv(\"핫딜.csv\", index=False)\n",
    "    driver.quit()\n",
    "    \n",
    "if __name__ == \"__main__\":\n",
    "    main()"
   ]
  },
  {
   "cell_type": "code",
   "execution_count": null,
   "id": "3ce6f7aa-dbfb-43cb-87e9-f263777479aa",
   "metadata": {},
   "outputs": [],
   "source": []
  },
  {
   "cell_type": "code",
   "execution_count": null,
   "id": "5ea4aaa7-66a8-436b-893d-a07b9bd1efcb",
   "metadata": {},
   "outputs": [],
   "source": []
  },
  {
   "cell_type": "code",
   "execution_count": null,
   "id": "cb9fc468-751c-445f-ad08-4d26001b7a2d",
   "metadata": {},
   "outputs": [],
   "source": []
  },
  {
   "cell_type": "code",
   "execution_count": null,
   "id": "a4f916d2-26e7-413d-ad8c-eb087e45bb36",
   "metadata": {},
   "outputs": [],
   "source": []
  },
  {
   "cell_type": "code",
   "execution_count": null,
   "id": "7b2686e8-ad4a-4b27-87ce-7d8732cb70c3",
   "metadata": {},
   "outputs": [],
   "source": []
  },
  {
   "cell_type": "code",
   "execution_count": null,
   "id": "4c7eac58-ad18-4371-ab45-66b5ef226bc1",
   "metadata": {},
   "outputs": [],
   "source": []
  },
  {
   "cell_type": "code",
   "execution_count": null,
   "id": "1a559ca4-b309-4905-b980-c6f82f5fe8f1",
   "metadata": {},
   "outputs": [],
   "source": []
  },
  {
   "cell_type": "code",
   "execution_count": null,
   "id": "938d8e23-c506-403b-ae43-e263a3939f8f",
   "metadata": {},
   "outputs": [],
   "source": []
  },
  {
   "cell_type": "code",
   "execution_count": null,
   "id": "1d1f4f86-96ea-45ff-be49-44d7564fe326",
   "metadata": {},
   "outputs": [],
   "source": []
  },
  {
   "cell_type": "code",
   "execution_count": null,
   "id": "a2a5ab70-2df5-4516-8b36-a31a51e874c4",
   "metadata": {},
   "outputs": [],
   "source": []
  },
  {
   "cell_type": "code",
   "execution_count": null,
   "id": "3c2bbe1b-f146-4715-aa2a-582a106e9ae8",
   "metadata": {},
   "outputs": [],
   "source": []
  },
  {
   "cell_type": "code",
   "execution_count": null,
   "id": "2254e8ee-4847-45ab-a7e7-4e881af6d5c3",
   "metadata": {},
   "outputs": [],
   "source": []
  },
  {
   "cell_type": "code",
   "execution_count": null,
   "id": "16ffbd82-4190-4a75-9428-20d5146d6e1c",
   "metadata": {},
   "outputs": [],
   "source": []
  },
  {
   "cell_type": "code",
   "execution_count": null,
   "id": "80e34e17-9b4b-4922-941b-7374ec337aa0",
   "metadata": {},
   "outputs": [],
   "source": []
  },
  {
   "cell_type": "code",
   "execution_count": null,
   "id": "f39bfe1e-9953-420f-ad27-155aadb81eb9",
   "metadata": {},
   "outputs": [],
   "source": []
  },
  {
   "cell_type": "code",
   "execution_count": null,
   "id": "69496886-3e5d-418f-bbef-2d15101bfaf4",
   "metadata": {},
   "outputs": [],
   "source": []
  },
  {
   "cell_type": "code",
   "execution_count": null,
   "id": "3a90195e-9467-4ae0-b8c2-3f099572e1bd",
   "metadata": {},
   "outputs": [],
   "source": []
  },
  {
   "cell_type": "code",
   "execution_count": null,
   "id": "a817a56b-ebcd-4412-98c2-40910aec2ea3",
   "metadata": {},
   "outputs": [],
   "source": []
  },
  {
   "cell_type": "code",
   "execution_count": null,
   "id": "ab91db7f-c587-46b0-9320-739f41ef4bb8",
   "metadata": {},
   "outputs": [],
   "source": []
  },
  {
   "cell_type": "code",
   "execution_count": null,
   "id": "9b1f688e-5b4a-4fa3-b8af-af8da7eb0b09",
   "metadata": {},
   "outputs": [],
   "source": []
  },
  {
   "cell_type": "code",
   "execution_count": null,
   "id": "0c7085ba-515f-4a04-ba59-59c1d9187a78",
   "metadata": {},
   "outputs": [],
   "source": []
  },
  {
   "cell_type": "code",
   "execution_count": null,
   "id": "798f843e-8b47-4494-a356-d35050fdb7cd",
   "metadata": {},
   "outputs": [],
   "source": []
  },
  {
   "cell_type": "code",
   "execution_count": null,
   "id": "ab9366df-1e0c-4bc8-a35b-6192d2ce3bd0",
   "metadata": {},
   "outputs": [],
   "source": []
  },
  {
   "cell_type": "code",
   "execution_count": null,
   "id": "62ef6fc7-d324-4228-b5c3-c803ea731f1e",
   "metadata": {},
   "outputs": [],
   "source": []
  },
  {
   "cell_type": "code",
   "execution_count": null,
   "id": "1f0785f4-90fe-4311-a712-3bf055b0b104",
   "metadata": {},
   "outputs": [],
   "source": []
  },
  {
   "cell_type": "code",
   "execution_count": null,
   "id": "897daa65-9055-4102-8a2a-3e967874ba17",
   "metadata": {},
   "outputs": [],
   "source": []
  },
  {
   "cell_type": "code",
   "execution_count": null,
   "id": "100d4d4f-64c6-4bec-b6fa-c612057fc99f",
   "metadata": {},
   "outputs": [],
   "source": []
  },
  {
   "cell_type": "code",
   "execution_count": null,
   "id": "f3d4cf4c-66da-4549-9f44-603fbf632892",
   "metadata": {},
   "outputs": [],
   "source": []
  },
  {
   "cell_type": "code",
   "execution_count": null,
   "id": "06dee838-ff63-454c-b63f-6619e595dd59",
   "metadata": {},
   "outputs": [],
   "source": []
  },
  {
   "cell_type": "code",
   "execution_count": null,
   "id": "5872397b-c17f-452b-9cc0-51b1441fdd41",
   "metadata": {},
   "outputs": [],
   "source": []
  },
  {
   "cell_type": "code",
   "execution_count": null,
   "id": "be6d465a-cb53-47fb-a082-e9810cb741a4",
   "metadata": {},
   "outputs": [],
   "source": []
  },
  {
   "cell_type": "code",
   "execution_count": null,
   "id": "00201fbd-5ef8-480c-a83c-675604eaae79",
   "metadata": {},
   "outputs": [],
   "source": []
  }
 ],
 "metadata": {
  "kernelspec": {
   "display_name": "Python 3 (ipykernel)",
   "language": "python",
   "name": "python3"
  },
  "language_info": {
   "codemirror_mode": {
    "name": "ipython",
    "version": 3
   },
   "file_extension": ".py",
   "mimetype": "text/x-python",
   "name": "python",
   "nbconvert_exporter": "python",
   "pygments_lexer": "ipython3",
   "version": "3.12.1"
  }
 },
 "nbformat": 4,
 "nbformat_minor": 5
}
