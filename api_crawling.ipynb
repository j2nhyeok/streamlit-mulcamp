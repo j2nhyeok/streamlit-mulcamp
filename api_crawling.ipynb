{
 "cells": [
  {
   "cell_type": "code",
   "execution_count": 6,
   "id": "a7d873cf-b11c-41d8-817e-6c24e503415e",
   "metadata": {},
   "outputs": [],
   "source": [
    "SERVICE_KEY = '597347794163686c38304b54786858'"
   ]
  },
  {
   "cell_type": "code",
   "execution_count": 7,
   "id": "f193890e-c79e-4329-a90e-ca5d0b2b50c9",
   "metadata": {},
   "outputs": [
    {
     "data": {
      "text/plain": [
       "'http://openapi.seoul.go.kr:8088/597347794163686c38304b54786858/json/tbLnOpendataRtmsV/1/100/'"
      ]
     },
     "execution_count": 7,
     "metadata": {},
     "output_type": "execute_result"
    }
   ],
   "source": [
    "SERVICE_KEY = '597347794163686c38304b54786858'\n",
    "URL = f'http://openapi.seoul.go.kr:8088/{SERVICE_KEY}/json/tbLnOpendataRtmsV/1/100/'\n",
    "URL"
   ]
  },
  {
   "cell_type": "code",
   "execution_count": 8,
   "id": "b95b6072-5852-4133-bd8c-83882518c398",
   "metadata": {},
   "outputs": [
    {
     "data": {
      "text/plain": [
       "<Response [200]>"
      ]
     },
     "execution_count": 8,
     "metadata": {},
     "output_type": "execute_result"
    }
   ],
   "source": [
    "import requests \n",
    "import json \n",
    "import pandas as pd \n",
    "\n",
    "req = requests.get(URL)\n",
    "req"
   ]
  },
  {
   "cell_type": "code",
   "execution_count": 18,
   "id": "f3d822d4-0745-4d06-9df6-107eea5ebecb",
   "metadata": {},
   "outputs": [],
   "source": [
    "content = req.json()"
   ]
  },
  {
   "cell_type": "code",
   "execution_count": 10,
   "id": "a66041b9-18ac-4b0a-91aa-4ba93c765c04",
   "metadata": {},
   "outputs": [
    {
     "data": {
      "text/plain": [
       "'http://openapi.seoul.go.kr:8088/597347794163686c38304b54786858/xml/tbLnOpendataRtmsV/1/5/'"
      ]
     },
     "execution_count": 10,
     "metadata": {},
     "output_type": "execute_result"
    }
   ],
   "source": [
    "URL = f'http://openapi.seoul.go.kr:8088/{SERVICE_KEY}/xml/tbLnOpendataRtmsV/1/5/'\n",
    "URL"
   ]
  },
  {
   "cell_type": "code",
   "execution_count": 20,
   "id": "b38cdac0-a3ef-48e1-8a23-b4d8cd78153e",
   "metadata": {},
   "outputs": [
    {
     "ename": "NameError",
     "evalue": "name 'URL' is not defined",
     "output_type": "error",
     "traceback": [
      "\u001b[1;31m---------------------------------------------------------------------------\u001b[0m",
      "\u001b[1;31mNameError\u001b[0m                                 Traceback (most recent call last)",
      "Cell \u001b[1;32mIn[20], line 5\u001b[0m\n\u001b[0;32m      2\u001b[0m \u001b[38;5;28;01mfrom\u001b[39;00m \u001b[38;5;21;01mbs4\u001b[39;00m \u001b[38;5;28;01mimport\u001b[39;00m BeautifulSoup\n\u001b[0;32m      3\u001b[0m \u001b[38;5;28;01mimport\u001b[39;00m \u001b[38;5;21;01mpandas\u001b[39;00m \u001b[38;5;28;01mas\u001b[39;00m \u001b[38;5;21;01mpd\u001b[39;00m \n\u001b[1;32m----> 5\u001b[0m req \u001b[38;5;241m=\u001b[39m requests\u001b[38;5;241m.\u001b[39mget(\u001b[43mURL\u001b[49m)\n\u001b[0;32m      6\u001b[0m soup \u001b[38;5;241m=\u001b[39m BeautifulSoup(req\u001b[38;5;241m.\u001b[39mcontent, \u001b[38;5;124m'\u001b[39m\u001b[38;5;124mlxml\u001b[39m\u001b[38;5;124m'\u001b[39m)\n",
      "\u001b[1;31mNameError\u001b[0m: name 'URL' is not defined"
     ]
    }
   ],
   "source": [
    "import requests\n",
    "from bs4 import BeautifulSoup\n",
    "import pandas as pd \n",
    "\n",
    "req = requests.get(URL)\n",
    "soup = BeautifulSoup(req.content, 'lxml')\n"
   ]
  },
  {
   "cell_type": "code",
   "execution_count": 12,
   "id": "b99cf8b1-7fca-415c-b083-1bb9a152e8f3",
   "metadata": {},
   "outputs": [
    {
     "data": {
      "text/html": [
       "<div>\n",
       "<style scoped>\n",
       "    .dataframe tbody tr th:only-of-type {\n",
       "        vertical-align: middle;\n",
       "    }\n",
       "\n",
       "    .dataframe tbody tr th {\n",
       "        vertical-align: top;\n",
       "    }\n",
       "\n",
       "    .dataframe thead th {\n",
       "        text-align: right;\n",
       "    }\n",
       "</style>\n",
       "<table border=\"1\" class=\"dataframe\">\n",
       "  <thead>\n",
       "    <tr style=\"text-align: right;\">\n",
       "      <th></th>\n",
       "      <th>acc_year</th>\n",
       "      <th>sgg_cd</th>\n",
       "      <th>bldg_nm</th>\n",
       "      <th>obj_amt</th>\n",
       "      <th>house_type</th>\n",
       "      <th>rdealer_lawdnm</th>\n",
       "    </tr>\n",
       "  </thead>\n",
       "  <tbody>\n",
       "    <tr>\n",
       "      <th>0</th>\n",
       "      <td>2024</td>\n",
       "      <td>11560</td>\n",
       "      <td>여의도리슈빌DS</td>\n",
       "      <td>20600</td>\n",
       "      <td>오피스텔</td>\n",
       "      <td>서울 영등포구</td>\n",
       "    </tr>\n",
       "    <tr>\n",
       "      <th>1</th>\n",
       "      <td>2024</td>\n",
       "      <td>11740</td>\n",
       "      <td>도우빌라</td>\n",
       "      <td>36700</td>\n",
       "      <td>연립다세대</td>\n",
       "      <td>서울 강동구</td>\n",
       "    </tr>\n",
       "    <tr>\n",
       "      <th>2</th>\n",
       "      <td>2024</td>\n",
       "      <td>11320</td>\n",
       "      <td>중흥에스-클래스</td>\n",
       "      <td>55000</td>\n",
       "      <td>아파트</td>\n",
       "      <td>서울 도봉구</td>\n",
       "    </tr>\n",
       "    <tr>\n",
       "      <th>3</th>\n",
       "      <td>2024</td>\n",
       "      <td>11545</td>\n",
       "      <td>중앙하이빌1동2동</td>\n",
       "      <td>23000</td>\n",
       "      <td>연립다세대</td>\n",
       "      <td></td>\n",
       "    </tr>\n",
       "    <tr>\n",
       "      <th>4</th>\n",
       "      <td>2024</td>\n",
       "      <td>11590</td>\n",
       "      <td>종로빌리지</td>\n",
       "      <td>40000</td>\n",
       "      <td>연립다세대</td>\n",
       "      <td>서울 강남구</td>\n",
       "    </tr>\n",
       "  </tbody>\n",
       "</table>\n",
       "</div>"
      ],
      "text/plain": [
       "  acc_year sgg_cd    bldg_nm obj_amt house_type rdealer_lawdnm\n",
       "0     2024  11560   여의도리슈빌DS   20600       오피스텔        서울 영등포구\n",
       "1     2024  11740       도우빌라   36700      연립다세대         서울 강동구\n",
       "2     2024  11320   중흥에스-클래스   55000        아파트         서울 도봉구\n",
       "3     2024  11545  중앙하이빌1동2동   23000      연립다세대               \n",
       "4     2024  11590      종로빌리지   40000      연립다세대         서울 강남구"
      ]
     },
     "execution_count": 12,
     "metadata": {},
     "output_type": "execute_result"
    }
   ],
   "source": [
    "years            = soup.find_all('acc_year')         # 접수년월\n",
    "sgg_cds          = soup.find_all('sgg_cd')           # 자치구코드\n",
    "sgg_nms          = soup.find_all('sgg_nm')           # 자치구명\n",
    "bjdong_cds       = soup.find_all('bjdong_cd')        # 법정동코드\n",
    "bjdong_nms       = soup.find_all('bjdong_nm')        # 법정동명\n",
    "land_gbns        = soup.find_all('land_gbn')         # 지번구분\n",
    "land_gbn_nms     = soup.find_all('land_gbn_nm')      # 지번구분명\n",
    "land_gbn_nms     = soup.find_all('land_gbn_nm')      # 지번구분명\n",
    "bonbeons         = soup.find_all('bonbeon')          # 본번\n",
    "bubeons          = soup.find_all('bubeon')           # 부번\n",
    "bldg_nms         = soup.find_all('bldg_nm')          # 건물명\n",
    "deal_ymds        = soup.find_all('deal_ymd')         # 계약일\n",
    "obj_amts         = soup.find_all('obj_amt')          # 물건금액(만원)\n",
    "bldg_areas       = soup.find_all('bldg_area')        # 건물면적(㎡)\n",
    "tot_areas        = soup.find_all('tot_area')         # 토지면적(㎡)\n",
    "floors           = soup.find_all('floor')            # 층\n",
    "right_gbns       = soup.find_all('right_gbn')        # 권리구분\n",
    "cntl_ymds        = soup.find_all('cntl_ymd')         # 취소일\n",
    "build_years      = soup.find_all('build_years')      # 건축년도\n",
    "house_types      = soup.find_all('house_type')       # 건물용도\n",
    "req_gbn          = soup.find_all('req_gbn')          # 신고구분\n",
    "rdealer_lawdnms  = soup.find_all('rdealer_lawdnm')   # 신고한 개업공인중개사 시군구명\n",
    "\n",
    "year_list           = []\n",
    "sgg_cd_list         = []\n",
    "bldg_nm_list        = []\n",
    "obj_amt_list        = []\n",
    "house_type_list     = []\n",
    "rdealer_lawdnm_list = []\n",
    "\n",
    "for year, sgg_cd, bldg_nm, obj_amt, house_type, rdealer_lawdnm in zip(years, sgg_cds, bldg_nms, obj_amts, house_types, rdealer_lawdnms):\n",
    "  year_list.append(year.get_text())\n",
    "  sgg_cd_list.append(sgg_cd.get_text())\n",
    "  bldg_nm_list.append(bldg_nm.get_text())\n",
    "  obj_amt_list.append(obj_amt.get_text())\n",
    "  house_type_list.append(house_type.get_text())\n",
    "  rdealer_lawdnm_list.append(rdealer_lawdnm.get_text())\n",
    "\n",
    "df = pd.DataFrame({\n",
    "    \"acc_year\": year_list, \n",
    "    \"sgg_cd\": sgg_cd_list, \n",
    "    \"bldg_nm\" : bldg_nm_list,\n",
    "    \"obj_amt\": obj_amt_list,\n",
    "    \"house_type\" : house_type_list,\n",
    "    \"rdealer_lawdnm\": rdealer_lawdnm_list\n",
    "})\n",
    "\n",
    "df"
   ]
  },
  {
   "cell_type": "markdown",
   "id": "2b83e0da-e2ac-4e90-ad34-5166029288f0",
   "metadata": {},
   "source": [
    "## 공공데이터 포털\n",
    "- 국토교통부 "
   ]
  },
  {
   "cell_type": "code",
   "execution_count": 3,
   "id": "a35e5072-13ce-4dfe-9fd7-259a4a7554b8",
   "metadata": {},
   "outputs": [
    {
     "ename": "KeyError",
     "evalue": "'body'",
     "output_type": "error",
     "traceback": [
      "\u001b[1;31m---------------------------------------------------------------------------\u001b[0m",
      "\u001b[1;31mKeyError\u001b[0m                                  Traceback (most recent call last)",
      "Cell \u001b[1;32mIn[3], line 18\u001b[0m\n\u001b[0;32m     16\u001b[0m \u001b[38;5;66;03m# req.text\u001b[39;00m\n\u001b[0;32m     17\u001b[0m contents \u001b[38;5;241m=\u001b[39m xmltodict\u001b[38;5;241m.\u001b[39mparse(req\u001b[38;5;241m.\u001b[39mtext)\n\u001b[1;32m---> 18\u001b[0m data \u001b[38;5;241m=\u001b[39m pd\u001b[38;5;241m.\u001b[39mDataFrame(\u001b[43mcontents\u001b[49m\u001b[43m[\u001b[49m\u001b[38;5;124;43m'\u001b[39;49m\u001b[38;5;124;43mresponse\u001b[39;49m\u001b[38;5;124;43m'\u001b[39;49m\u001b[43m]\u001b[49m\u001b[43m[\u001b[49m\u001b[38;5;124;43m'\u001b[39;49m\u001b[38;5;124;43mbody\u001b[39;49m\u001b[38;5;124;43m'\u001b[39;49m\u001b[43m]\u001b[49m[\u001b[38;5;124m'\u001b[39m\u001b[38;5;124mitems\u001b[39m\u001b[38;5;124m'\u001b[39m][\u001b[38;5;124m'\u001b[39m\u001b[38;5;124mitem\u001b[39m\u001b[38;5;124m'\u001b[39m])\n\u001b[0;32m     19\u001b[0m data\u001b[38;5;241m.\u001b[39mhead()\n",
      "\u001b[1;31mKeyError\u001b[0m: 'body'"
     ]
    }
   ],
   "source": [
    "import requests \n",
    "import json \n",
    "import pandas as pd \n",
    "import xmltodict\n",
    "\n",
    "PUBLIC_SERVICE_KEY = 'NqHQc8N364ZoIlgPr1yYLB0zmy4T11x12FTWf9AQx%2FY85JjvdbMJ61pAaQjbdQJf7fDBP9DRTjbSR0Hh9B%2Fyfg%3D%3D'\n",
    "\n",
    "# serviceKey = '인증키 입력'\n",
    "pageNo = 1 # 페이지 번호\n",
    "numOfRows = 500 # 한 페이지 결과수\n",
    "LAWD_CD = 11500 # 지역코드\n",
    "DEAL_YMD = 202101 # 계약월\n",
    "url = f'http://openapi.molit.go.kr/OpenAPI_ToolInstallPackage/service/rest/RTMSOBJSvc/getRTMSDataSvcAptTradeDev?serviceKey={PUBLIC_SERVICE_KEY}&pageNo={pageNo}&numOfRows={numOfRows}&LAWD_CD={LAWD_CD}&DEAL_YMD={DEAL_YMD}'\n",
    "req = requests.get(url)\n",
    "\n",
    "# req.text\n",
    "contents = xmltodict.parse(req.text)\n",
    "data = pd.DataFrame(contents['response']['body']['items']['item'])\n",
    "data.head()"
   ]
  },
  {
   "cell_type": "markdown",
   "id": "c3ebadb5-27af-4a12-b769-1f7b036730dc",
   "metadata": {},
   "source": [
    "## 다중 데이터 수집"
   ]
  },
  {
   "cell_type": "code",
   "execution_count": null,
   "id": "9adc5a37-ed5b-4904-93dd-ecf404b65d48",
   "metadata": {},
   "outputs": [],
   "source": []
  },
  {
   "cell_type": "code",
   "execution_count": 21,
   "id": "7bba7f79-b851-4d27-8a2b-fca612a6441b",
   "metadata": {},
   "outputs": [
    {
     "name": "stdout",
     "output_type": "stream",
     "text": [
      "http://openapi.seoul.go.kr:8088/597347794163686c38304b54786858/xml/tbLnOpendataRentV/1/5/\n"
     ]
    },
    {
     "ename": "JSONDecodeError",
     "evalue": "Expecting value: line 1 column 1 (char 0)",
     "output_type": "error",
     "traceback": [
      "\u001b[1;31m---------------------------------------------------------------------------\u001b[0m",
      "\u001b[1;31mJSONDecodeError\u001b[0m                           Traceback (most recent call last)",
      "File \u001b[1;32m~\\AppData\\Local\\Programs\\Python\\Python312\\Lib\\site-packages\\requests\\models.py:971\u001b[0m, in \u001b[0;36mResponse.json\u001b[1;34m(self, **kwargs)\u001b[0m\n\u001b[0;32m    970\u001b[0m \u001b[38;5;28;01mtry\u001b[39;00m:\n\u001b[1;32m--> 971\u001b[0m     \u001b[38;5;28;01mreturn\u001b[39;00m \u001b[43mcomplexjson\u001b[49m\u001b[38;5;241;43m.\u001b[39;49m\u001b[43mloads\u001b[49m\u001b[43m(\u001b[49m\u001b[38;5;28;43mself\u001b[39;49m\u001b[38;5;241;43m.\u001b[39;49m\u001b[43mtext\u001b[49m\u001b[43m,\u001b[49m\u001b[43m \u001b[49m\u001b[38;5;241;43m*\u001b[39;49m\u001b[38;5;241;43m*\u001b[39;49m\u001b[43mkwargs\u001b[49m\u001b[43m)\u001b[49m\n\u001b[0;32m    972\u001b[0m \u001b[38;5;28;01mexcept\u001b[39;00m JSONDecodeError \u001b[38;5;28;01mas\u001b[39;00m e:\n\u001b[0;32m    973\u001b[0m     \u001b[38;5;66;03m# Catch JSON-related errors and raise as requests.JSONDecodeError\u001b[39;00m\n\u001b[0;32m    974\u001b[0m     \u001b[38;5;66;03m# This aliases json.JSONDecodeError and simplejson.JSONDecodeError\u001b[39;00m\n",
      "File \u001b[1;32m~\\AppData\\Local\\Programs\\Python\\Python312\\Lib\\json\\__init__.py:346\u001b[0m, in \u001b[0;36mloads\u001b[1;34m(s, cls, object_hook, parse_float, parse_int, parse_constant, object_pairs_hook, **kw)\u001b[0m\n\u001b[0;32m    343\u001b[0m \u001b[38;5;28;01mif\u001b[39;00m (\u001b[38;5;28mcls\u001b[39m \u001b[38;5;129;01mis\u001b[39;00m \u001b[38;5;28;01mNone\u001b[39;00m \u001b[38;5;129;01mand\u001b[39;00m object_hook \u001b[38;5;129;01mis\u001b[39;00m \u001b[38;5;28;01mNone\u001b[39;00m \u001b[38;5;129;01mand\u001b[39;00m\n\u001b[0;32m    344\u001b[0m         parse_int \u001b[38;5;129;01mis\u001b[39;00m \u001b[38;5;28;01mNone\u001b[39;00m \u001b[38;5;129;01mand\u001b[39;00m parse_float \u001b[38;5;129;01mis\u001b[39;00m \u001b[38;5;28;01mNone\u001b[39;00m \u001b[38;5;129;01mand\u001b[39;00m\n\u001b[0;32m    345\u001b[0m         parse_constant \u001b[38;5;129;01mis\u001b[39;00m \u001b[38;5;28;01mNone\u001b[39;00m \u001b[38;5;129;01mand\u001b[39;00m object_pairs_hook \u001b[38;5;129;01mis\u001b[39;00m \u001b[38;5;28;01mNone\u001b[39;00m \u001b[38;5;129;01mand\u001b[39;00m \u001b[38;5;129;01mnot\u001b[39;00m kw):\n\u001b[1;32m--> 346\u001b[0m     \u001b[38;5;28;01mreturn\u001b[39;00m \u001b[43m_default_decoder\u001b[49m\u001b[38;5;241;43m.\u001b[39;49m\u001b[43mdecode\u001b[49m\u001b[43m(\u001b[49m\u001b[43ms\u001b[49m\u001b[43m)\u001b[49m\n\u001b[0;32m    347\u001b[0m \u001b[38;5;28;01mif\u001b[39;00m \u001b[38;5;28mcls\u001b[39m \u001b[38;5;129;01mis\u001b[39;00m \u001b[38;5;28;01mNone\u001b[39;00m:\n",
      "File \u001b[1;32m~\\AppData\\Local\\Programs\\Python\\Python312\\Lib\\json\\decoder.py:337\u001b[0m, in \u001b[0;36mJSONDecoder.decode\u001b[1;34m(self, s, _w)\u001b[0m\n\u001b[0;32m    333\u001b[0m \u001b[38;5;250m\u001b[39m\u001b[38;5;124;03m\"\"\"Return the Python representation of ``s`` (a ``str`` instance\u001b[39;00m\n\u001b[0;32m    334\u001b[0m \u001b[38;5;124;03mcontaining a JSON document).\u001b[39;00m\n\u001b[0;32m    335\u001b[0m \n\u001b[0;32m    336\u001b[0m \u001b[38;5;124;03m\"\"\"\u001b[39;00m\n\u001b[1;32m--> 337\u001b[0m obj, end \u001b[38;5;241m=\u001b[39m \u001b[38;5;28;43mself\u001b[39;49m\u001b[38;5;241;43m.\u001b[39;49m\u001b[43mraw_decode\u001b[49m\u001b[43m(\u001b[49m\u001b[43ms\u001b[49m\u001b[43m,\u001b[49m\u001b[43m \u001b[49m\u001b[43midx\u001b[49m\u001b[38;5;241;43m=\u001b[39;49m\u001b[43m_w\u001b[49m\u001b[43m(\u001b[49m\u001b[43ms\u001b[49m\u001b[43m,\u001b[49m\u001b[43m \u001b[49m\u001b[38;5;241;43m0\u001b[39;49m\u001b[43m)\u001b[49m\u001b[38;5;241;43m.\u001b[39;49m\u001b[43mend\u001b[49m\u001b[43m(\u001b[49m\u001b[43m)\u001b[49m\u001b[43m)\u001b[49m\n\u001b[0;32m    338\u001b[0m end \u001b[38;5;241m=\u001b[39m _w(s, end)\u001b[38;5;241m.\u001b[39mend()\n",
      "File \u001b[1;32m~\\AppData\\Local\\Programs\\Python\\Python312\\Lib\\json\\decoder.py:355\u001b[0m, in \u001b[0;36mJSONDecoder.raw_decode\u001b[1;34m(self, s, idx)\u001b[0m\n\u001b[0;32m    354\u001b[0m \u001b[38;5;28;01mexcept\u001b[39;00m \u001b[38;5;167;01mStopIteration\u001b[39;00m \u001b[38;5;28;01mas\u001b[39;00m err:\n\u001b[1;32m--> 355\u001b[0m     \u001b[38;5;28;01mraise\u001b[39;00m JSONDecodeError(\u001b[38;5;124m\"\u001b[39m\u001b[38;5;124mExpecting value\u001b[39m\u001b[38;5;124m\"\u001b[39m, s, err\u001b[38;5;241m.\u001b[39mvalue) \u001b[38;5;28;01mfrom\u001b[39;00m \u001b[38;5;28;01mNone\u001b[39;00m\n\u001b[0;32m    356\u001b[0m \u001b[38;5;28;01mreturn\u001b[39;00m obj, end\n",
      "\u001b[1;31mJSONDecodeError\u001b[0m: Expecting value: line 1 column 1 (char 0)",
      "\nDuring handling of the above exception, another exception occurred:\n",
      "\u001b[1;31mJSONDecodeError\u001b[0m                           Traceback (most recent call last)",
      "Cell \u001b[1;32mIn[21], line 11\u001b[0m\n\u001b[0;32m      9\u001b[0m \u001b[38;5;28mprint\u001b[39m(url)\n\u001b[0;32m     10\u001b[0m req \u001b[38;5;241m=\u001b[39m requests\u001b[38;5;241m.\u001b[39mget(url)\n\u001b[1;32m---> 11\u001b[0m content \u001b[38;5;241m=\u001b[39m \u001b[43mreq\u001b[49m\u001b[38;5;241;43m.\u001b[39;49m\u001b[43mjson\u001b[49m\u001b[43m(\u001b[49m\u001b[43m)\u001b[49m\n\u001b[0;32m     12\u001b[0m con \u001b[38;5;241m=\u001b[39m content[\u001b[38;5;124m'\u001b[39m\u001b[38;5;124mtbLnOpendataRtmsV\u001b[39m\u001b[38;5;124m'\u001b[39m][\u001b[38;5;124m'\u001b[39m\u001b[38;5;124mrow\u001b[39m\u001b[38;5;124m'\u001b[39m]\n\u001b[0;32m     13\u001b[0m result \u001b[38;5;241m=\u001b[39m pd\u001b[38;5;241m.\u001b[39mDataFrame(con)\n",
      "File \u001b[1;32m~\\AppData\\Local\\Programs\\Python\\Python312\\Lib\\site-packages\\requests\\models.py:975\u001b[0m, in \u001b[0;36mResponse.json\u001b[1;34m(self, **kwargs)\u001b[0m\n\u001b[0;32m    971\u001b[0m     \u001b[38;5;28;01mreturn\u001b[39;00m complexjson\u001b[38;5;241m.\u001b[39mloads(\u001b[38;5;28mself\u001b[39m\u001b[38;5;241m.\u001b[39mtext, \u001b[38;5;241m*\u001b[39m\u001b[38;5;241m*\u001b[39mkwargs)\n\u001b[0;32m    972\u001b[0m \u001b[38;5;28;01mexcept\u001b[39;00m JSONDecodeError \u001b[38;5;28;01mas\u001b[39;00m e:\n\u001b[0;32m    973\u001b[0m     \u001b[38;5;66;03m# Catch JSON-related errors and raise as requests.JSONDecodeError\u001b[39;00m\n\u001b[0;32m    974\u001b[0m     \u001b[38;5;66;03m# This aliases json.JSONDecodeError and simplejson.JSONDecodeError\u001b[39;00m\n\u001b[1;32m--> 975\u001b[0m     \u001b[38;5;28;01mraise\u001b[39;00m RequestsJSONDecodeError(e\u001b[38;5;241m.\u001b[39mmsg, e\u001b[38;5;241m.\u001b[39mdoc, e\u001b[38;5;241m.\u001b[39mpos)\n",
      "\u001b[1;31mJSONDecodeError\u001b[0m: Expecting value: line 1 column 1 (char 0)"
     ]
    }
   ],
   "source": [
    "import requests\n",
    "import pandas as pd\n",
    "\n",
    "SERVICE_KEY = '597347794163686c38304b54786858'\n",
    "\n",
    "data = None\n",
    "\n",
    "url = f'http://openapi.seoul.go.kr:8088/{SERVICE_KEY}/xml/tbLnOpendataRentV/1/5/'\n",
    "print(url)\n",
    "req = requests.get(url)\n",
    "content = req.json()\n",
    "con = content['tbLnOpendataRtmsV']['row']\n",
    "result = pd.DataFrame(con)\n",
    "data = pd.concat([data, result])\n",
    "\n",
    "data = data.reset_index(drop=True)\n",
    "data.head()"
   ]
  },
  {
   "cell_type": "code",
   "execution_count": 57,
   "id": "339cd198-d42e-4377-9ccb-110e3cb95e54",
   "metadata": {
    "scrolled": true
   },
   "outputs": [
    {
     "name": "stdout",
     "output_type": "stream",
     "text": [
      "2\n",
      "3\n",
      "4\n",
      "5\n",
      "6\n",
      "7\n",
      "8\n",
      "9\n",
      "10\n",
      "11\n",
      "12\n",
      "13\n",
      "14\n",
      "15\n",
      "16\n",
      "17\n",
      "18\n",
      "19\n",
      "20\n",
      "21\n",
      "22\n",
      "23\n",
      "24\n",
      "25\n",
      "26\n",
      "27\n",
      "28\n",
      "29\n",
      "30\n",
      "31\n",
      "32\n",
      "33\n",
      "34\n",
      "35\n",
      "36\n",
      "37\n",
      "38\n",
      "39\n",
      "40\n",
      "41\n",
      "42\n",
      "43\n",
      "44\n",
      "45\n",
      "46\n",
      "47\n",
      "48\n",
      "49\n",
      "50\n",
      "51\n",
      "52\n",
      "53\n",
      "54\n",
      "55\n",
      "56\n",
      "57\n",
      "58\n",
      "59\n",
      "60\n",
      "61\n",
      "62\n",
      "63\n",
      "64\n",
      "65\n",
      "66\n",
      "67\n",
      "68\n"
     ]
    },
    {
     "ename": "KeyError",
     "evalue": "'tbLnOpendataRtmsV'",
     "output_type": "error",
     "traceback": [
      "\u001b[1;31m---------------------------------------------------------------------------\u001b[0m",
      "\u001b[1;31mKeyError\u001b[0m                                  Traceback (most recent call last)",
      "Cell \u001b[1;32mIn[57], line 15\u001b[0m\n\u001b[0;32m     12\u001b[0m req \u001b[38;5;241m=\u001b[39m requests\u001b[38;5;241m.\u001b[39mget(url)\n\u001b[0;32m     13\u001b[0m content \u001b[38;5;241m=\u001b[39m req\u001b[38;5;241m.\u001b[39mjson()\n\u001b[1;32m---> 15\u001b[0m con \u001b[38;5;241m=\u001b[39m \u001b[43mcontent\u001b[49m\u001b[43m[\u001b[49m\u001b[38;5;124;43m'\u001b[39;49m\u001b[38;5;124;43mtbLnOpendataRtmsV\u001b[39;49m\u001b[38;5;124;43m'\u001b[39;49m\u001b[43m]\u001b[49m[\u001b[38;5;124m'\u001b[39m\u001b[38;5;124mrow\u001b[39m\u001b[38;5;124m'\u001b[39m]\n\u001b[0;32m     16\u001b[0m data_list\u001b[38;5;241m.\u001b[39mextend(con)  \u001b[38;5;66;03m# 리스트에 데이터를 추가합니다.\u001b[39;00m\n\u001b[0;32m     17\u001b[0m i \u001b[38;5;241m=\u001b[39m i \u001b[38;5;241m+\u001b[39m \u001b[38;5;241m1\u001b[39m\n",
      "\u001b[1;31mKeyError\u001b[0m: 'tbLnOpendataRtmsV'"
     ]
    }
   ],
   "source": [
    "import requests\n",
    "import pandas as pd\n",
    "\n",
    "SERVICE_KEY = '597347794163686c38304b54786858'\n",
    "\n",
    "data_list = []  # 빈 리스트를 생성하여 데이터를 모을 것입니다.\n",
    "year = 2022\n",
    "i = 1\n",
    "\n",
    "while True:\n",
    "    url = f'http://openapi.seoul.go.kr:8088/{SERVICE_KEY}/json/tbLnOpendataRtmsV/{i + (i-1) * 1000}/{i * 1000}/{year}'\n",
    "    req = requests.get(url)\n",
    "    content = req.json()\n",
    "\n",
    "    con = content['tbLnOpendataRtmsV']['row']\n",
    "    data_list.extend(con)  # 리스트에 데이터를 추가합니다.\n",
    "    i = i + 1\n",
    "    print(i)\n",
    "data = pd.DataFrame(data_list)\n",
    "data.info()\n",
    "data.to_csv(\"result2.csv\", index=False)  # index를 저장하지 않도록 주의하세요.\n"
   ]
  },
  {
   "cell_type": "code",
   "execution_count": 48,
   "id": "868a216a-bf29-43ac-a666-92b7fecfbabc",
   "metadata": {},
   "outputs": [
    {
     "name": "stdout",
     "output_type": "stream",
     "text": [
      "{'tbLnOpendataRentV': {'list_total_count': '616687', 'RESULT': {'CODE': 'INFO-000', 'MESSAGE': '정상 처리되었습니다'}, 'row': [{'ACC_YEAR': '2022', 'SGG_CD': '11260', 'SGG_NM': '중랑구', 'BJDONG_CD': '10400', 'BJDONG_NM': '묵동', 'LAND_GBN': '1', 'LAND_GBN_NM': '대지', 'BOBN': '0013', 'BUBN': '0000', 'FLR_NO': '3', 'CNTRCT_DE': '20240129', 'RENT_GBN': '월세', 'RENT_AREA': '59.76', 'RENT_GTN': '20000', 'RENT_FEE': '35', 'BLDG_NM': '신내', 'BUILD_YEAR': '1996', 'HOUSE_GBN_NM': '아파트', 'CNTRCT_PRD': None, 'NEW_RON_SECD': None, 'CNTRCT_UPDT_RQEST_AT': None, 'BEFORE_GRNTY_AMOUNT': None, 'BEFORE_MT_RENT_CHRGE': None}, {'ACC_YEAR': '2022', 'SGG_CD': '11260', 'SGG_NM': '중랑구', 'BJDONG_CD': '10400', 'BJDONG_NM': '묵동', 'LAND_GBN': '1', 'LAND_GBN_NM': '대지', 'BOBN': '0013', 'BUBN': '0000', 'FLR_NO': '3', 'CNTRCT_DE': '20240129', 'RENT_GBN': '월세', 'RENT_AREA': '59.76', 'RENT_GTN': '10000', 'RENT_FEE': '80', 'BLDG_NM': '신내', 'BUILD_YEAR': '1996', 'HOUSE_GBN_NM': '아파트', 'CNTRCT_PRD': '24.01~25.01', 'NEW_RON_SECD': None, 'CNTRCT_UPDT_RQEST_AT': None, 'BEFORE_GRNTY_AMOUNT': None, 'BEFORE_MT_RENT_CHRGE': None}, {'ACC_YEAR': '2022', 'SGG_CD': '11230', 'SGG_NM': '동대문구', 'BJDONG_CD': '10200', 'BJDONG_NM': '용두동', 'LAND_GBN': '1', 'LAND_GBN_NM': '대지', 'BOBN': '0796', 'BUBN': '0000', 'FLR_NO': '9', 'CNTRCT_DE': '20240127', 'RENT_GBN': '월세', 'RENT_AREA': '84.99', 'RENT_GTN': '40000', 'RENT_FEE': '105', 'BLDG_NM': '래미안엘리니티', 'BUILD_YEAR': '2022', 'HOUSE_GBN_NM': '아파트', 'CNTRCT_PRD': '24.02~25.02', 'NEW_RON_SECD': '신규', 'CNTRCT_UPDT_RQEST_AT': None, 'BEFORE_GRNTY_AMOUNT': '0', 'BEFORE_MT_RENT_CHRGE': '0'}, {'ACC_YEAR': '2022', 'SGG_CD': '11170', 'SGG_NM': '용산구', 'BJDONG_CD': '12200', 'BJDONG_NM': '문배동', 'LAND_GBN': '1', 'LAND_GBN_NM': '대지', 'BOBN': '0011', 'BUBN': '0010', 'FLR_NO': '4', 'CNTRCT_DE': '20240122', 'RENT_GBN': '전세', 'RENT_AREA': '32.84', 'RENT_GTN': '23100', 'RENT_FEE': '0', 'BLDG_NM': '용산KCC웰츠타워', 'BUILD_YEAR': '2015', 'HOUSE_GBN_NM': '오피스텔', 'CNTRCT_PRD': '24.01~25.01', 'NEW_RON_SECD': '갱신', 'CNTRCT_UPDT_RQEST_AT': '○', 'BEFORE_GRNTY_AMOUNT': '22000', 'BEFORE_MT_RENT_CHRGE': None}, {'ACC_YEAR': '2022', 'SGG_CD': '11440', 'SGG_NM': '마포구', 'BJDONG_CD': '11100', 'BJDONG_NM': '신수동', 'LAND_GBN': '1', 'LAND_GBN_NM': '대지', 'BOBN': '0445', 'BUBN': '0005', 'FLR_NO': '6', 'CNTRCT_DE': '20240120', 'RENT_GBN': '월세', 'RENT_AREA': '84.47', 'RENT_GTN': '47000', 'RENT_FEE': '10', 'BLDG_NM': '현대', 'BUILD_YEAR': '1996', 'HOUSE_GBN_NM': '아파트', 'CNTRCT_PRD': '24.03~26.03', 'NEW_RON_SECD': None, 'CNTRCT_UPDT_RQEST_AT': None, 'BEFORE_GRNTY_AMOUNT': None, 'BEFORE_MT_RENT_CHRGE': None}]}}\n"
     ]
    }
   ],
   "source": [
    "\n",
    "\n",
    "import requests\n",
    "import pandas as pd\n",
    "SERVICE_KEY = '597347794163686c38304b54786858'\n",
    "\n",
    "url = f'http://openapi.seoul.go.kr:8088/{SERVICE_KEY}/xml/tbLnOpendataRentV/1/5/2022'\n",
    "\n",
    "req = requests.get(url)\n",
    "contents = xmltodict.parse(req.text)\n",
    "print(contents)"
   ]
  },
  {
   "cell_type": "code",
   "execution_count": null,
   "id": "d313006b-bb36-499c-8c38-94c54146398b",
   "metadata": {},
   "outputs": [],
   "source": []
  },
  {
   "cell_type": "code",
   "execution_count": null,
   "id": "67fd9476-c9f0-45ca-8604-f07041043408",
   "metadata": {},
   "outputs": [],
   "source": []
  },
  {
   "cell_type": "code",
   "execution_count": null,
   "id": "3d31d716-10a9-43e6-80e9-8e259c2c3222",
   "metadata": {},
   "outputs": [],
   "source": []
  },
  {
   "cell_type": "code",
   "execution_count": null,
   "id": "d9e74cfb-1acf-4f64-b0ef-25768495bf78",
   "metadata": {},
   "outputs": [],
   "source": []
  },
  {
   "cell_type": "code",
   "execution_count": null,
   "id": "c4ef78a1-218a-4d50-a3c9-9603cac32316",
   "metadata": {},
   "outputs": [],
   "source": []
  },
  {
   "cell_type": "code",
   "execution_count": null,
   "id": "e6dcdab8-b35d-4789-83c6-966e3b538fea",
   "metadata": {},
   "outputs": [],
   "source": []
  }
 ],
 "metadata": {
  "kernelspec": {
   "display_name": "Python 3 (ipykernel)",
   "language": "python",
   "name": "python3"
  },
  "language_info": {
   "codemirror_mode": {
    "name": "ipython",
    "version": 3
   },
   "file_extension": ".py",
   "mimetype": "text/x-python",
   "name": "python",
   "nbconvert_exporter": "python",
   "pygments_lexer": "ipython3",
   "version": "3.12.1"
  }
 },
 "nbformat": 4,
 "nbformat_minor": 5
}
